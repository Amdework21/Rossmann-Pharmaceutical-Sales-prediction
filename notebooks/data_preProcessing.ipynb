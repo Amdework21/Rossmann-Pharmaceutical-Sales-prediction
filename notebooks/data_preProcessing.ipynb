{
 "cells": [
  {
   "cell_type": "code",
   "execution_count": null,
   "id": "6e7c3899",
   "metadata": {},
   "outputs": [],
   "source": [
    "#importing the libraries\n",
    "import numpy as np\n",
    "import pandas as pd\n",
    "from scipy import stats\n",
    "import datetime \n",
    "import plotly.express as px\n",
    "import seaborn as sns\n",
    "sns.set()\n",
    "import matplotlib.pyplot as plt\n",
    "%matplotlib inline\n",
    "from sklearn import preprocessing\n",
    "import plotly.graph_objects as go\n",
    "import warnings\n",
    "warnings.filterwarnings(\"ignore\")"
   ]
  },
  {
   "cell_type": "code",
   "execution_count": null,
   "id": "31623081",
   "metadata": {},
   "outputs": [],
   "source": [
    "# %load ('../scripts/data_cleaner.py')\n",
    "%run ../scripts/data_cleaner.py"
   ]
  },
  {
   "cell_type": "code",
   "execution_count": null,
   "id": "d0f0b07d",
   "metadata": {
    "scrolled": true
   },
   "outputs": [],
   "source": [
    "#Adding scripts path\n",
    "import sys\n",
    "sys.path.insert(0,'../scripts/')\n",
    "from data_preProcessing import data_preProcessing_script\n",
    "from data_cleaner import DataCleaner"
   ]
  },
  {
   "cell_type": "code",
   "execution_count": null,
   "id": "468a515d",
   "metadata": {},
   "outputs": [],
   "source": [
    "store_data = pd.read_csv('../data/store.csv')\n",
    "train_data = pd.read_csv('../data/train.csv')\n",
    "test_data = pd.read_csv('../data/test.csv')"
   ]
  },
  {
   "cell_type": "code",
   "execution_count": null,
   "id": "145c71d0",
   "metadata": {},
   "outputs": [],
   "source": [
    "store_data.head()"
   ]
  },
  {
   "cell_type": "code",
   "execution_count": null,
   "id": "ab0fddb7",
   "metadata": {},
   "outputs": [],
   "source": [
    "train_data.head()"
   ]
  },
  {
   "cell_type": "code",
   "execution_count": null,
   "id": "6d2f12ba",
   "metadata": {},
   "outputs": [],
   "source": [
    "test_data.head()"
   ]
  },
  {
   "cell_type": "code",
   "execution_count": null,
   "id": "50af6877",
   "metadata": {},
   "outputs": [],
   "source": [
    "preprocess_store = data_preProcessing_script(store_data)\n",
    "preprocess_store.show_data_information()"
   ]
  },
  {
   "cell_type": "code",
   "execution_count": null,
   "id": "b5430124",
   "metadata": {},
   "outputs": [],
   "source": [
    "preprocess_test = data_preProcessing_script(test_data)\n",
    "preprocess_test.show_data_information()"
   ]
  },
  {
   "cell_type": "code",
   "execution_count": null,
   "id": "98fb34eb",
   "metadata": {
    "scrolled": false
   },
   "outputs": [],
   "source": [
    "preprocess_train = data_preProcessing_script(train_data)\n",
    "preprocess_train.show_data_information()"
   ]
  },
  {
   "cell_type": "markdown",
   "id": "61cb8ab0",
   "metadata": {},
   "source": [
    "# Missing Value Manipulation"
   ]
  },
  {
   "cell_type": "code",
   "execution_count": null,
   "id": "f19f9094",
   "metadata": {},
   "outputs": [],
   "source": [
    "preprocess_store.colums_WithMissingValue()"
   ]
  },
  {
   "cell_type": "code",
   "execution_count": null,
   "id": "180cac8e",
   "metadata": {},
   "outputs": [],
   "source": [
    "preprocess_train.colums_WithMissingValue()"
   ]
  },
  {
   "cell_type": "code",
   "execution_count": null,
   "id": "b73162c3",
   "metadata": {
    "scrolled": false
   },
   "outputs": [],
   "source": [
    "preprocess_test.colums_WithMissingValue()"
   ]
  },
  {
   "cell_type": "markdown",
   "id": "227706de",
   "metadata": {},
   "source": [
    "## Fixing missing values"
   ]
  },
  {
   "cell_type": "code",
   "execution_count": null,
   "id": "f3578a35",
   "metadata": {
    "scrolled": true
   },
   "outputs": [],
   "source": [
    "preprocess_test.get_column_based_missing_percentage()"
   ]
  },
  {
   "cell_type": "code",
   "execution_count": null,
   "id": "6c31cd4f",
   "metadata": {},
   "outputs": [],
   "source": [
    "test_data['Open'].fillna(test_data['Open'].median(), inplace = True)"
   ]
  },
  {
   "cell_type": "code",
   "execution_count": null,
   "id": "bb642011",
   "metadata": {},
   "outputs": [],
   "source": [
    "preprocess_train.get_column_based_missing_percentage()"
   ]
  },
  {
   "cell_type": "code",
   "execution_count": null,
   "id": "ef839717",
   "metadata": {
    "scrolled": false
   },
   "outputs": [],
   "source": [
    "preprocess_store.get_column_based_missing_percentage()"
   ]
  },
  {
   "cell_type": "code",
   "execution_count": null,
   "id": "6635e2d1",
   "metadata": {},
   "outputs": [],
   "source": [
    "store_data['CompetitionDistance'].fillna(store_data['CompetitionDistance'].median(), inplace = True)\n",
    "store_data.Promo2SinceWeek.fillna(0,inplace=True)\n",
    "store_data.Promo2SinceYear.fillna(0,inplace=True)\n",
    "store_data.PromoInterval.fillna(0,inplace=True)\n",
    "store_data.CompetitionOpenSinceMonth.fillna(0, inplace = True)\n",
    "store_data.CompetitionOpenSinceYear.fillna(0,inplace=True)"
   ]
  },
  {
   "cell_type": "code",
   "execution_count": null,
   "id": "4f1e9ef3",
   "metadata": {},
   "outputs": [],
   "source": [
    "preprocess_store.get_column_based_missing_percentage()"
   ]
  },
  {
   "cell_type": "code",
   "execution_count": null,
   "id": "cccb1631",
   "metadata": {},
   "outputs": [],
   "source": [
    "preprocess_test.get_column_based_missing_percentage()"
   ]
  },
  {
   "cell_type": "code",
   "execution_count": null,
   "id": "11591fc6",
   "metadata": {
    "scrolled": true
   },
   "outputs": [],
   "source": [
    "preprocess_train.get_column_based_missing_percentage()"
   ]
  },
  {
   "cell_type": "markdown",
   "id": "737c36c7",
   "metadata": {},
   "source": [
    "# Data Wrangling"
   ]
  },
  {
   "cell_type": "code",
   "execution_count": null,
   "id": "059a9755",
   "metadata": {
    "scrolled": true
   },
   "outputs": [],
   "source": [
    "preprocess_store.show_datatypes()"
   ]
  },
  {
   "cell_type": "code",
   "execution_count": null,
   "id": "df5a3e7c",
   "metadata": {},
   "outputs": [],
   "source": [
    "preprocess_train.show_datatypes()"
   ]
  },
  {
   "cell_type": "code",
   "execution_count": null,
   "id": "31d2c646",
   "metadata": {},
   "outputs": [],
   "source": [
    "preprocess_test.show_datatypes()"
   ]
  },
  {
   "cell_type": "code",
   "execution_count": null,
   "id": "7377d6aa",
   "metadata": {},
   "outputs": [],
   "source": [
    "train_data.Date = pd.to_datetime(train_data[\"Date\"])\n",
    "test_data.Date = pd.to_datetime(test_data[\"Date\"])"
   ]
  },
  {
   "cell_type": "code",
   "execution_count": null,
   "id": "6eaf6370",
   "metadata": {},
   "outputs": [],
   "source": [
    "preprocess_train.show_datatypes()"
   ]
  },
  {
   "cell_type": "code",
   "execution_count": null,
   "id": "0d3af83f",
   "metadata": {},
   "outputs": [],
   "source": [
    "preprocess_test.show_datatypes()"
   ]
  },
  {
   "cell_type": "code",
   "execution_count": null,
   "id": "754191ec",
   "metadata": {},
   "outputs": [],
   "source": [
    "train_data_cleaner = DataCleaner(train_data)\n",
    "test_data_cleaner = DataCleaner(test_data)\n",
    "store_data_cleaner = DataCleaner(store_data)"
   ]
  },
  {
   "cell_type": "code",
   "execution_count": null,
   "id": "53928a0b",
   "metadata": {},
   "outputs": [],
   "source": [
    "train_data_cleaner.separate_date_column(date_column='Date')\n",
    "test_data_cleaner.separate_date_column(date_column='Date')"
   ]
  },
  {
   "cell_type": "code",
   "execution_count": null,
   "id": "8ac66dac",
   "metadata": {},
   "outputs": [],
   "source": [
    "#Knowing the shapes of our datasets\n",
    "print('Shapes of our datasets')\n",
    "print('-----------------------')\n",
    "print(f'Training dataset:{train_data.shape}')\n",
    "print(f'Testing dataset:{test_data.shape}')\n",
    "print(f'Store dataset:{store_data.shape}')"
   ]
  },
  {
   "cell_type": "markdown",
   "id": "1bc43f44",
   "metadata": {},
   "source": [
    "# Outliers (test data)"
   ]
  },
  {
   "cell_type": "code",
   "execution_count": null,
   "id": "5cda05f0",
   "metadata": {},
   "outputs": [],
   "source": [
    "from data_exploration import exploration"
   ]
  },
  {
   "cell_type": "code",
   "execution_count": null,
   "id": "09b61013",
   "metadata": {},
   "outputs": [],
   "source": [
    "exploration.plot_box(test_data, 'Store', 'Outliers')"
   ]
  },
  {
   "cell_type": "code",
   "execution_count": null,
   "id": "06058b88",
   "metadata": {},
   "outputs": [],
   "source": [
    "exploration.plot_box(test_data, 'DayOfWeek', 'Outliers')"
   ]
  },
  {
   "cell_type": "markdown",
   "id": "3b4f27fd",
   "metadata": {},
   "source": [
    "# Outliers (train data)"
   ]
  },
  {
   "cell_type": "code",
   "execution_count": null,
   "id": "ca418b58",
   "metadata": {},
   "outputs": [],
   "source": [
    "exploration.plot_box(train_data, 'Store', 'Outliers')"
   ]
  },
  {
   "cell_type": "code",
   "execution_count": null,
   "id": "02997e8b",
   "metadata": {},
   "outputs": [],
   "source": [
    "exploration.plot_box(train_data, 'DayOfWeek', 'Outliers')"
   ]
  },
  {
   "cell_type": "code",
   "execution_count": null,
   "id": "1b2a8a8d",
   "metadata": {},
   "outputs": [],
   "source": [
    "exploration.plot_box(train_data, 'Sales', 'Outliers')"
   ]
  },
  {
   "cell_type": "markdown",
   "id": "0f05f7be",
   "metadata": {},
   "source": [
    "# Outliers (store data)"
   ]
  },
  {
   "cell_type": "code",
   "execution_count": null,
   "id": "36a74398",
   "metadata": {},
   "outputs": [],
   "source": [
    "exploration.plot_box(store_data, 'Store', 'Outliers')"
   ]
  },
  {
   "cell_type": "code",
   "execution_count": null,
   "id": "8487c73f",
   "metadata": {},
   "outputs": [],
   "source": [
    "exploration.plot_box(store_data, 'CompetitionDistance', 'Outliers')"
   ]
  },
  {
   "cell_type": "code",
   "execution_count": null,
   "id": "d7ac28f3",
   "metadata": {},
   "outputs": [],
   "source": [
    "exploration.plot_box(store_data, 'Promo2', 'Outliers')"
   ]
  },
  {
   "cell_type": "code",
   "execution_count": null,
   "id": "03537680",
   "metadata": {},
   "outputs": [],
   "source": [
    "exploration.plot_box(store_data, 'CompetitionOpenSinceMonth', 'Outliers')"
   ]
  },
  {
   "cell_type": "markdown",
   "id": "06ce5188",
   "metadata": {},
   "source": [
    "# Fixing Outliers"
   ]
  },
  {
   "cell_type": "code",
   "execution_count": null,
   "id": "313d1625",
   "metadata": {},
   "outputs": [],
   "source": [
    "train_data_cleaner.replace_outlier_with_median(train_data, 'Sales')"
   ]
  },
  {
   "cell_type": "code",
   "execution_count": null,
   "id": "1783305f",
   "metadata": {},
   "outputs": [],
   "source": [
    "train_data_cleaner.replace_outlier_with_median(store_data, 'CompetitionDistance')\n",
    "train_data_cleaner.replace_outlier_with_median(store_data, 'CompetitionOpenSinceMonth')"
   ]
  },
  {
   "cell_type": "markdown",
   "id": "e7b28b18",
   "metadata": {},
   "source": [
    "# Saving new File"
   ]
  },
  {
   "cell_type": "code",
   "execution_count": null,
   "id": "2bb49df7",
   "metadata": {},
   "outputs": [],
   "source": [
    "# Merging the training dataset with the store dataset \n",
    "train_store_data=pd.merge(train_data, store_data, on='Store', how='inner')"
   ]
  },
  {
   "cell_type": "code",
   "execution_count": null,
   "id": "01a584af",
   "metadata": {},
   "outputs": [],
   "source": [
    "# Merging the test dataset with the store dataset\n",
    "test_store_data=pd.merge(test_data, store_data, on='Store', how='inner')"
   ]
  },
  {
   "cell_type": "code",
   "execution_count": null,
   "id": "252ec2f7",
   "metadata": {},
   "outputs": [],
   "source": [
    "train_store_data.to_csv('../data/train_store.csv', index=False)\n",
    "test_store_data.to_csv('../data/test_store.csv', index=False)\n",
    "# \n",
    "# \n",
    "print('''\n",
    "#############################################\n",
    "Clean Data Saved !\n",
    "#############################################\n",
    "''')"
   ]
  }
 ],
 "metadata": {
  "kernelspec": {
   "display_name": "Python 3 (ipykernel)",
   "language": "python",
   "name": "python3"
  },
  "language_info": {
   "codemirror_mode": {
    "name": "ipython",
    "version": 3
   },
   "file_extension": ".py",
   "mimetype": "text/x-python",
   "name": "python",
   "nbconvert_exporter": "python",
   "pygments_lexer": "ipython3",
   "version": "3.9.12"
  }
 },
 "nbformat": 4,
 "nbformat_minor": 5
}
